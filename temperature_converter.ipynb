{
  "nbformat": 4,
  "nbformat_minor": 0,
  "metadata": {
    "colab": {
      "provenance": []
    },
    "kernelspec": {
      "name": "python3",
      "display_name": "Python 3"
    },
    "language_info": {
      "name": "python"
    }
  },
  "cells": [
    {
      "cell_type": "code",
      "execution_count": 1,
      "metadata": {
        "colab": {
          "base_uri": "https://localhost:8080/"
        },
        "id": "nEMSMEFCbkYD",
        "outputId": "84fb9bbc-a8ac-495f-e58f-ba3cb64ccc82"
      },
      "outputs": [
        {
          "output_type": "stream",
          "name": "stdout",
          "text": [
            "enter temp in C13\n",
            "temp in F 55.4\n"
          ]
        }
      ],
      "source": [
        "celsius=float(input(\"enter temp in C\"))\n",
        "farenhit=(celsius*9/5)+32\n",
        "print(\"temp in F\",farenhit)"
      ]
    }
  ]
}