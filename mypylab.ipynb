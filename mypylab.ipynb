{
  "nbformat": 4,
  "nbformat_minor": 0,
  "metadata": {
    "colab": {
      "provenance": [],
      "toc_visible": true
    },
    "kernelspec": {
      "name": "python3",
      "display_name": "Python 3"
    },
    "language_info": {
      "name": "python"
    }
  },
  "cells": [
    {
      "cell_type": "markdown",
      "source": [],
      "metadata": {
        "id": "n4Sgk0TeW1Mp"
      }
    },
    {
      "cell_type": "markdown",
      "source": [
        "addition of 2 numbers"
      ],
      "metadata": {
        "id": "QegdxrHjW1Kg"
      }
    },
    {
      "cell_type": "code",
      "execution_count": 1,
      "metadata": {
        "colab": {
          "base_uri": "https://localhost:8080/"
        },
        "id": "YCfyts3_VwZo",
        "outputId": "d905bbaa-17b6-41b2-f1c6-8b1322b3497e"
      },
      "outputs": [
        {
          "output_type": "stream",
          "name": "stdout",
          "text": [
            "enter first no14\n",
            "enter second no2\n",
            "the sum is 142\n"
          ]
        }
      ],
      "source": [
        "num1=input(\"enter first no\")\n",
        "num2=input(\"enter second no\")\n",
        "result=num1+num2\n",
        "print(\"the sum is\",result)\n"
      ]
    },
    {
      "cell_type": "markdown",
      "source": [
        "addition of 2 numbers"
      ],
      "metadata": {
        "id": "dRPGSkXQWzcg"
      }
    },
    {
      "cell_type": "code",
      "source": [
        "num1=int(input(\"enter first no\"))\n",
        "num2=int(input(\"enter second no \"))\n",
        "result=num1+num2\n",
        "print(\"the sum is\",result)"
      ],
      "metadata": {
        "colab": {
          "base_uri": "https://localhost:8080/"
        },
        "id": "tAewbJfmXZBH",
        "outputId": "9583ed86-882c-43b2-de1f-9a7f888e7d1b"
      },
      "execution_count": 2,
      "outputs": [
        {
          "output_type": "stream",
          "name": "stdout",
          "text": [
            "enter first no12\n",
            "enter second no 12\n",
            "the sum is 24\n"
          ]
        }
      ]
    },
    {
      "cell_type": "markdown",
      "source": [
        "arithmetic operation"
      ],
      "metadata": {
        "id": "yp5JFVyDX_lL"
      }
    },
    {
      "cell_type": "code",
      "source": [
        "a=int(input(\"enter a\"))\n",
        "b=int(input(\"enter b\"))\n",
        "print(\"the sum is\",a+b)\n",
        "print(\"the difference is\",a-b)\n",
        "print(\"the product is\",a*b)\n",
        "print(\"the division is\",a/b)\n",
        "print(\"the modulus is\",a//b)\n",
        "print(\"the exponential is\",a**b)"
      ],
      "metadata": {
        "colab": {
          "base_uri": "https://localhost:8080/"
        },
        "id": "vnPB6RL4YUd3",
        "outputId": "03075c36-cb5c-4fd5-c886-b70ef4b4e1bf"
      },
      "execution_count": 4,
      "outputs": [
        {
          "output_type": "stream",
          "name": "stdout",
          "text": [
            "enter a2\n",
            "enter b4\n",
            "the sum is 6\n",
            "the difference is -2\n",
            "the product is 8\n",
            "the division is 0.5\n",
            "the modulus is 0\n",
            "the exponential is 16\n"
          ]
        }
      ]
    },
    {
      "cell_type": "markdown",
      "source": [
        "area of circle"
      ],
      "metadata": {
        "id": "kRnJXEqIaL3y"
      }
    },
    {
      "cell_type": "code",
      "source": [
        "r=float(input(\"enter radius of the circle\"))\n",
        "area=3.14*r*r\n",
        "print(\"the area of circle is\",area)"
      ],
      "metadata": {
        "colab": {
          "base_uri": "https://localhost:8080/"
        },
        "id": "qGFt35lTaQ_2",
        "outputId": "6d118485-9538-4621-a02c-2a302730c751"
      },
      "execution_count": 6,
      "outputs": [
        {
          "output_type": "stream",
          "name": "stdout",
          "text": [
            "enter radius of the circle10\n",
            "the area of circle is 314.0\n"
          ]
        }
      ]
    },
    {
      "cell_type": "markdown",
      "source": [],
      "metadata": {
        "id": "2m7ZP7pqaLzo"
      }
    }
  ]
}