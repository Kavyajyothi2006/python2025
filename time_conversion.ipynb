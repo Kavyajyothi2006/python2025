{
  "nbformat": 4,
  "nbformat_minor": 0,
  "metadata": {
    "colab": {
      "provenance": [],
      "toc_visible": true
    },
    "kernelspec": {
      "name": "python3",
      "display_name": "Python 3"
    },
    "language_info": {
      "name": "python"
    }
  },
  "cells": [
    {
      "cell_type": "markdown",
      "source": [
        "minutes to hrs to minutes"
      ],
      "metadata": {
        "id": "GwIK818Ml8CB"
      }
    },
    {
      "cell_type": "code",
      "source": [
        "mins=int(input(\"enter minutes\"))\n",
        "hrs=mins//60\n",
        "remainingmins = mins%60\n",
        "print(hrs)\n",
        "print(remainingmins)"
      ],
      "metadata": {
        "colab": {
          "base_uri": "https://localhost:8080/"
        },
        "id": "rJd3ZN80mGkv",
        "outputId": "19159e84-83ee-43c4-df24-e1b06c3b059d"
      },
      "execution_count": 9,
      "outputs": [
        {
          "output_type": "stream",
          "name": "stdout",
          "text": [
            "enter minutes240\n",
            "4\n",
            "0\n"
          ]
        }
      ]
    }
  ]
}