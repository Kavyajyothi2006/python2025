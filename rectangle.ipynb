{
  "nbformat": 4,
  "nbformat_minor": 0,
  "metadata": {
    "colab": {
      "provenance": [],
      "toc_visible": true
    },
    "kernelspec": {
      "name": "python3",
      "display_name": "Python 3"
    },
    "language_info": {
      "name": "python"
    }
  },
  "cells": [
    {
      "cell_type": "code",
      "source": [
        "l=float(input(\"enter Length:\"))\n",
        "w=float(input(\"enter Width:\"))\n",
        "area=l*w\n",
        "perimeter=2*(l+w)\n",
        "print(\"Area of rectangle:\",area)\n",
        "print(\"Perimeter of rectangle:\",perimeter)"
      ],
      "metadata": {
        "colab": {
          "base_uri": "https://localhost:8080/"
        },
        "id": "l_rc1k9Fk4Xh",
        "outputId": "982d4583-3d7c-4316-ba73-fd64a0bf70c0"
      },
      "execution_count": 7,
      "outputs": [
        {
          "output_type": "stream",
          "name": "stdout",
          "text": [
            "enter Length:2\n",
            "enter Width:2\n",
            "Area of rectangle: 4.0\n",
            "Perimeter of rectangle: 8.0\n"
          ]
        }
      ]
    }
  ]
}