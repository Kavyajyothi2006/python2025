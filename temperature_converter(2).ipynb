{
  "nbformat": 4,
  "nbformat_minor": 0,
  "metadata": {
    "colab": {
      "provenance": [],
      "toc_visible": true
    },
    "kernelspec": {
      "name": "python3",
      "display_name": "Python 3"
    },
    "language_info": {
      "name": "python"
    }
  },
  "cells": [
    {
      "cell_type": "code",
      "source": [
        "farenhit=float(input(\"enter temp in F\"))\n",
        "celsius=(farenhit-32)*5/9\n",
        "print(\"temp in C\",celsius)"
      ],
      "metadata": {
        "colab": {
          "base_uri": "https://localhost:8080/"
        },
        "id": "B9MP4v3RdEgU",
        "outputId": "3fa425a5-1858-42dd-e9fa-aaa133927b85"
      },
      "execution_count": 2,
      "outputs": [
        {
          "output_type": "stream",
          "name": "stdout",
          "text": [
            "enter temp in F12\n",
            "temp in C -11.11111111111111\n"
          ]
        }
      ]
    }
  ]
}