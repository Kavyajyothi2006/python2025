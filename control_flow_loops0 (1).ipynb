{
  "nbformat": 4,
  "nbformat_minor": 0,
  "metadata": {
    "colab": {
      "provenance": [],
      "authorship_tag": "ABX9TyM0e1xCvA8BaAc1Au2CjpD1",
      "include_colab_link": true
    },
    "kernelspec": {
      "name": "python3",
      "display_name": "Python 3"
    },
    "language_info": {
      "name": "python"
    }
  },
  "cells": [
    {
      "cell_type": "markdown",
      "metadata": {
        "id": "view-in-github",
        "colab_type": "text"
      },
      "source": [
        "<a href=\"https://colab.research.google.com/github/Kavyajyothi2006/python2025/blob/main/control_flow_loops0.ipynb\" target=\"_parent\"><img src=\"https://colab.research.google.com/assets/colab-badge.svg\" alt=\"Open In Colab\"/></a>"
      ]
    },
    {
      "cell_type": "markdown",
      "source": [
        "Even or Odd"
      ],
      "metadata": {
        "id": "NF16-Sg6jmrM"
      }
    },
    {
      "cell_type": "code",
      "execution_count": 1,
      "metadata": {
        "colab": {
          "base_uri": "https://localhost:8080/"
        },
        "id": "hEuOB2zkhM5Z",
        "outputId": "d3d26d3f-43dd-4ed1-cccb-7cf4ecd24c3d"
      },
      "outputs": [
        {
          "output_type": "stream",
          "name": "stdout",
          "text": [
            "enter a number:12\n",
            "number is even\n"
          ]
        }
      ],
      "source": [
        "num=int(input(\"enter a number:\"))\n",
        "if num % 2==0:\n",
        "  print(\"number is even\")\n",
        "else:\n",
        "  print(\"number is odd\")"
      ]
    },
    {
      "cell_type": "markdown",
      "source": [
        "sum of numbers in given range"
      ],
      "metadata": {
        "id": "X7tnl7y4j4Pe"
      }
    },
    {
      "cell_type": "code",
      "source": [
        "start =int(input(\"enter start value:\"))\n",
        "stop=int(input(\"enter end value:\"))\n",
        "sum=0\n",
        "for i in range(start,stop+1):\n",
        "    sum=sum+i\n",
        "    print(sum)"
      ],
      "metadata": {
        "colab": {
          "base_uri": "https://localhost:8080/"
        },
        "id": "hbblBxG6kC0J",
        "outputId": "c63bba86-c58f-4aaa-d003-4e91f8c27d0f"
      },
      "execution_count": 3,
      "outputs": [
        {
          "output_type": "stream",
          "name": "stdout",
          "text": [
            "enter start value:4\n",
            "enter end value:8\n",
            "4\n",
            "9\n",
            "15\n",
            "22\n",
            "30\n"
          ]
        }
      ]
    },
    {
      "cell_type": "markdown",
      "source": [
        "factorial"
      ],
      "metadata": {
        "id": "uQKx0KH0mpSG"
      }
    },
    {
      "cell_type": "code",
      "source": [
        "n=int(input(\"enter an integer:\"))\n",
        "fact=1\n",
        "for i in range(1,n+1):\n",
        "  fact=fact*i\n",
        "  print(fact)"
      ],
      "metadata": {
        "colab": {
          "base_uri": "https://localhost:8080/"
        },
        "id": "zrUAXIR4nY6s",
        "outputId": "9eef15bf-7678-4d3d-ed6f-7a3fa68eda49"
      },
      "execution_count": 5,
      "outputs": [
        {
          "output_type": "stream",
          "name": "stdout",
          "text": [
            "enter an integer:6\n",
            "1\n",
            "2\n",
            "6\n",
            "24\n",
            "120\n",
            "720\n"
          ]
        }
      ]
    },
    {
      "cell_type": "markdown",
      "source": [
        "fibonacci series"
      ],
      "metadata": {
        "id": "ga1cZc_7p7eS"
      }
    },
    {
      "cell_type": "code",
      "source": [
        "n=int(input(\"enter no of terms:\"))\n",
        "a , b  = 0 , 1\n",
        "for i in range(n):\n",
        "  print(a,end=\" \")\n",
        "  a , b = b , a+b"
      ],
      "metadata": {
        "colab": {
          "base_uri": "https://localhost:8080/"
        },
        "id": "T1WU-1i1qAMa",
        "outputId": "bbc9658e-3d0a-429d-e13a-8cc81dac03ea"
      },
      "execution_count": 12,
      "outputs": [
        {
          "output_type": "stream",
          "name": "stdout",
          "text": [
            "enter no of terms:7\n",
            "0 1 1 2 3 5 8 "
          ]
        }
      ]
    },
    {
      "cell_type": "code",
      "source": [],
      "metadata": {
        "id": "rGfbkWtJqovr"
      },
      "execution_count": null,
      "outputs": []
    }
  ]
}