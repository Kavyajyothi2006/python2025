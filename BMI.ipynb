{
  "nbformat": 4,
  "nbformat_minor": 0,
  "metadata": {
    "colab": {
      "provenance": [],
      "toc_visible": true
    },
    "kernelspec": {
      "name": "python3",
      "display_name": "Python 3"
    },
    "language_info": {
      "name": "python"
    }
  },
  "cells": [
    {
      "cell_type": "code",
      "source": [
        "w=int(input(\"enter your weight in kg:\"))\n",
        "h=float(input(\"enter your height in m:\"))\n",
        "bmi=w/(h*h)\n",
        "print(bmi)"
      ],
      "metadata": {
        "colab": {
          "base_uri": "https://localhost:8080/"
        },
        "id": "nej5H9Ebet4e",
        "outputId": "dcbd2fce-e2f5-442f-f33a-f9d7dfffdcbc"
      },
      "execution_count": 4,
      "outputs": [
        {
          "output_type": "stream",
          "name": "stdout",
          "text": [
            "enter your weight in kg:45\n",
            "enter your height in m:1.5\n",
            "20.0\n"
          ]
        }
      ]
    },
    {
      "cell_type": "code",
      "source": [],
      "metadata": {
        "id": "o9Nrb_Wqet0M"
      },
      "execution_count": null,
      "outputs": []
    }
  ]
}