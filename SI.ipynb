{
  "nbformat": 4,
  "nbformat_minor": 0,
  "metadata": {
    "colab": {
      "provenance": [],
      "toc_visible": true
    },
    "kernelspec": {
      "name": "python3",
      "display_name": "Python 3"
    },
    "language_info": {
      "name": "python"
    }
  },
  "cells": [
    {
      "cell_type": "code",
      "source": [
        "R=float(input(\"enter the ROI:\"))\n",
        "T=int(input(\"enter the time\"))\n",
        "P=int(input(\"enter the principle amount\"))\n",
        "SI=(P*T*R)/100\n",
        "print(\"interest is\",SI)"
      ],
      "metadata": {
        "colab": {
          "base_uri": "https://localhost:8080/"
        },
        "id": "3p4Q6LU6ifA7",
        "outputId": "32756837-1d65-402f-9fc4-ffd54dd3a397"
      },
      "execution_count": 5,
      "outputs": [
        {
          "output_type": "stream",
          "name": "stdout",
          "text": [
            "enter the ROI:6.5\n",
            "enter the time12\n",
            "enter the principle amount100000\n",
            "interest is 78000.0\n"
          ]
        }
      ]
    }
  ]
}