{
  "nbformat": 4,
  "nbformat_minor": 0,
  "metadata": {
    "colab": {
      "provenance": []
    },
    "kernelspec": {
      "name": "python3",
      "display_name": "Python 3"
    },
    "language_info": {
      "name": "python"
    }
  },
  "cells": [
    {
      "cell_type": "markdown",
      "source": [
        "creating list"
      ],
      "metadata": {
        "id": "r0hl2dM5qDDD"
      }
    },
    {
      "cell_type": "code",
      "source": [
        "num=[1,2,3,4,5,6,7,8,9,0]\n",
        "print(num)"
      ],
      "metadata": {
        "colab": {
          "base_uri": "https://localhost:8080/"
        },
        "id": "RCFK7qlEqHSe",
        "outputId": "a73ec63b-7a80-44df-e7dc-f5fd9abb04b3"
      },
      "execution_count": null,
      "outputs": [
        {
          "output_type": "stream",
          "name": "stdout",
          "text": [
            "[1, 2, 3, 4, 5, 6, 7, 8, 9, 0]\n"
          ]
        }
      ]
    },
    {
      "cell_type": "markdown",
      "source": [
        "appending and inserting"
      ],
      "metadata": {
        "id": "QCKP-VaMrny1"
      }
    },
    {
      "cell_type": "code",
      "source": [
        "num.append(10)\n",
        "num.insert(9,0)\n",
        "print(num)"
      ],
      "metadata": {
        "colab": {
          "base_uri": "https://localhost:8080/"
        },
        "id": "gl13nRLUrvhK",
        "outputId": "94ceadb8-02d7-49d3-8f64-b8c23aada89f"
      },
      "execution_count": null,
      "outputs": [
        {
          "output_type": "stream",
          "name": "stdout",
          "text": [
            "[1, 2, 3, 4, 5, 6, 7, 8, 9, 0, 10]\n"
          ]
        }
      ]
    },
    {
      "cell_type": "markdown",
      "source": [
        "list removal"
      ],
      "metadata": {
        "id": "pWzbsbiNtBjS"
      }
    },
    {
      "cell_type": "code",
      "source": [
        "num.remove(4)\n",
        "print(num)"
      ],
      "metadata": {
        "colab": {
          "base_uri": "https://localhost:8080/"
        },
        "id": "01Szgyb8tGPD",
        "outputId": "2d8b0de4-23d1-48a8-cdf7-7311c8b64e28"
      },
      "execution_count": null,
      "outputs": [
        {
          "output_type": "stream",
          "name": "stdout",
          "text": [
            "[0, 0, 1, 2, 3, 5, 6, 7, 8, 9, 10]\n"
          ]
        }
      ]
    },
    {
      "cell_type": "markdown",
      "source": [
        "list sorting"
      ],
      "metadata": {
        "id": "VaXovzqztd3G"
      }
    },
    {
      "cell_type": "code",
      "source": [
        "num.sort()\n",
        "print(num)"
      ],
      "metadata": {
        "colab": {
          "base_uri": "https://localhost:8080/"
        },
        "id": "bqDgZUbbtieG",
        "outputId": "33b401c8-16b8-4378-daed-5fda5068d745"
      },
      "execution_count": null,
      "outputs": [
        {
          "output_type": "stream",
          "name": "stdout",
          "text": [
            "[0, 0, 1, 2, 3, 4, 5, 6, 7, 8, 9, 10]\n"
          ]
        }
      ]
    },
    {
      "cell_type": "markdown",
      "source": [
        "list reversal"
      ],
      "metadata": {
        "id": "yHaqZL1VuGh6"
      }
    },
    {
      "cell_type": "code",
      "source": [
        "num.reverse()\n",
        "print(num)\n"
      ],
      "metadata": {
        "colab": {
          "base_uri": "https://localhost:8080/"
        },
        "id": "vxwrgxVbuN89",
        "outputId": "2e7d5fb8-1f12-4ac3-90ed-adcb6d95a189"
      },
      "execution_count": null,
      "outputs": [
        {
          "output_type": "stream",
          "name": "stdout",
          "text": [
            "[3, 5, 5, 9, 8, 7, 6, 5, 1]\n"
          ]
        }
      ]
    },
    {
      "cell_type": "markdown",
      "source": [
        "list indexing"
      ],
      "metadata": {
        "id": "PIl97Denu9lv"
      }
    },
    {
      "cell_type": "code",
      "source": [
        "num=[1,2,3,4,5,6,7,8,9,0]\n",
        "num1=num[0]\n",
        "num3=num[-1]\n",
        "num2=num[len(num)//2]\n",
        "print(num1,num2,num3)"
      ],
      "metadata": {
        "colab": {
          "base_uri": "https://localhost:8080/"
        },
        "id": "G26s_frRvaPe",
        "outputId": "cde9de45-87c0-45a0-928f-461f0d598ba7"
      },
      "execution_count": null,
      "outputs": [
        {
          "output_type": "stream",
          "name": "stdout",
          "text": [
            "1 6 0\n"
          ]
        }
      ]
    },
    {
      "cell_type": "markdown",
      "source": [
        "list removal using pop()"
      ],
      "metadata": {
        "id": "CxSN71SixQqd"
      }
    },
    {
      "cell_type": "code",
      "source": [
        "num.pop()\n",
        "print(num)"
      ],
      "metadata": {
        "colab": {
          "base_uri": "https://localhost:8080/"
        },
        "id": "lrZOUNM1xZa1",
        "outputId": "fa76e85f-1097-4f0c-843c-2d62f5de8577"
      },
      "execution_count": null,
      "outputs": [
        {
          "output_type": "stream",
          "name": "stdout",
          "text": [
            "[1, 2, 3, 4, 5, 6, 7, 8, 9]\n"
          ]
        }
      ]
    },
    {
      "cell_type": "markdown",
      "source": [
        "sum of list of elements"
      ],
      "metadata": {
        "id": "Ku9V6CBkzLyX"
      }
    },
    {
      "cell_type": "code",
      "source": [
        "num =[1,2,3,4,5,6,7,8,9,0]\n",
        "total=sum(num)\n",
        "print(total)"
      ],
      "metadata": {
        "colab": {
          "base_uri": "https://localhost:8080/"
        },
        "id": "khaEKV5wymva",
        "outputId": "802d181a-1c66-41d5-f8d2-d51c5ad61602"
      },
      "execution_count": null,
      "outputs": [
        {
          "output_type": "stream",
          "name": "stdout",
          "text": [
            "45\n"
          ]
        }
      ]
    },
    {
      "cell_type": "markdown",
      "source": [
        "max and min in a list"
      ],
      "metadata": {
        "id": "LyKiX6ba0K2T"
      }
    },
    {
      "cell_type": "code",
      "source": [
        "num =[1,2,3,4,5,6,7,8,9,0]\n",
        "print(max(num))\n",
        "print(min(num))\n"
      ],
      "metadata": {
        "colab": {
          "base_uri": "https://localhost:8080/"
        },
        "id": "liXyx7jR0eUr",
        "outputId": "6b4b5690-c3c2-445a-d7a1-c0ebffe95e2c"
      },
      "execution_count": null,
      "outputs": [
        {
          "output_type": "stream",
          "name": "stdout",
          "text": [
            "9\n",
            "0\n"
          ]
        }
      ]
    },
    {
      "cell_type": "markdown",
      "source": [
        "count occurences"
      ],
      "metadata": {
        "id": "mSfEkBbS1Bkd"
      }
    },
    {
      "cell_type": "code",
      "source": [
        "num=[1,5,6,7,8,9,5,5,3]\n",
        "count_5=num.count(5)\n",
        "print(count_5)\n"
      ],
      "metadata": {
        "id": "LgKJEazT1G9i",
        "colab": {
          "base_uri": "https://localhost:8080/"
        },
        "outputId": "280fce11-04ac-43c7-f289-4d8e3b1805ef"
      },
      "execution_count": null,
      "outputs": [
        {
          "output_type": "stream",
          "name": "stdout",
          "text": [
            "3\n"
          ]
        }
      ]
    },
    {
      "cell_type": "markdown",
      "source": [
        "dictionary creation"
      ],
      "metadata": {
        "id": "Pe3ISVT22Xyh"
      }
    },
    {
      "cell_type": "code",
      "source": [
        "a={\n",
        "    \"name\" :\"kavya\",\n",
        "    \"age\"  :19,\n",
        "    \"weight\":55,\n",
        "    \"place\":\"kunigal\"\n",
        "}\n",
        "print(a)"
      ],
      "metadata": {
        "colab": {
          "base_uri": "https://localhost:8080/"
        },
        "id": "mTarZ_pD2cDs",
        "outputId": "73b8dcb4-f10d-4bfc-e122-5812a219a8a8"
      },
      "execution_count": null,
      "outputs": [
        {
          "output_type": "stream",
          "name": "stdout",
          "text": [
            "{'name': 'kavya', 'age': 19, 'weight': 55, 'place': 'kunigal'}\n"
          ]
        }
      ]
    },
    {
      "cell_type": "markdown",
      "source": [
        "accessing a dictionary value"
      ],
      "metadata": {
        "id": "PElnp08L3UPm"
      }
    },
    {
      "cell_type": "code",
      "source": [
        "a={\n",
        "    \"name\" :\"kavya\",\n",
        "    \"age\"  :19,\n",
        "    \"weight\":55,\n",
        "    \"place\":\"kunigal\"\n",
        "}\n",
        "print(a[\"name\"])"
      ],
      "metadata": {
        "colab": {
          "base_uri": "https://localhost:8080/"
        },
        "id": "bwczdCKp3lg9",
        "outputId": "3ab31e24-ab0f-493b-ec20-8c4495d1e01b"
      },
      "execution_count": null,
      "outputs": [
        {
          "output_type": "stream",
          "name": "stdout",
          "text": [
            "kavya\n"
          ]
        }
      ]
    },
    {
      "cell_type": "markdown",
      "source": [
        "adding and updating dictionary element"
      ],
      "metadata": {
        "id": "FlxPrJz136Yj"
      }
    },
    {
      "cell_type": "code",
      "source": [
        "a={\n",
        "    \"name\" :\"kavya\",\n",
        "    \"age\"  :19,\n",
        "    \"weight\":55,\n",
        "    \"place\":\"kunigal\"\n",
        "}\n",
        "a['height']=160\n",
        "print(a)"
      ],
      "metadata": {
        "colab": {
          "base_uri": "https://localhost:8080/"
        },
        "id": "jOzyV8zg4Bp9",
        "outputId": "0ce24f51-f88a-43c1-b0b9-60ee7b20bd08"
      },
      "execution_count": null,
      "outputs": [
        {
          "output_type": "stream",
          "name": "stdout",
          "text": [
            "{'name': 'kavya', 'age': 19, 'weight': 55, 'place': 'kunigal', 'height': 160}\n"
          ]
        }
      ]
    },
    {
      "cell_type": "markdown",
      "source": [
        "removing an element from dictionary"
      ],
      "metadata": {
        "id": "_joFDchW5R80"
      }
    },
    {
      "cell_type": "code",
      "source": [
        "a={\n",
        "    \"name\" :\"kavya\",\n",
        "    \"age\"  :19,\n",
        "    \"weight\":55,\n",
        "    \"place\":\"kunigal\"\n",
        "}\n",
        "del a['age']\n",
        "print(a)"
      ],
      "metadata": {
        "colab": {
          "base_uri": "https://localhost:8080/"
        },
        "id": "D2OcsMXZ5a0n",
        "outputId": "ffd37ecf-b35e-477b-cb24-bab97bfe6da0"
      },
      "execution_count": null,
      "outputs": [
        {
          "output_type": "stream",
          "name": "stdout",
          "text": [
            "{'name': 'kavya', 'weight': 55, 'place': 'kunigal'}\n"
          ]
        }
      ]
    },
    {
      "cell_type": "markdown",
      "source": [
        "iterating through dictionary"
      ],
      "metadata": {
        "id": "cZJ0_5XQ505R"
      }
    },
    {
      "cell_type": "code",
      "source": [
        "a={\n",
        "    \"name\" :\"kavya\",\n",
        "    \"age\"  :19,\n",
        "    \"weight\":55,\n",
        "    \"place\":\"kunigal\"\n",
        "}\n",
        "for i,j in a.items():\n",
        "  print(i,j)"
      ],
      "metadata": {
        "colab": {
          "base_uri": "https://localhost:8080/"
        },
        "id": "gvlm4Fz655pd",
        "outputId": "d5b222e3-e3cb-429f-f5f5-5a5ee4dc99ee"
      },
      "execution_count": null,
      "outputs": [
        {
          "output_type": "stream",
          "name": "stdout",
          "text": [
            "name kavya\n",
            "age 19\n",
            "weight 55\n",
            "place kunigal\n"
          ]
        }
      ]
    },
    {
      "cell_type": "markdown",
      "source": [
        "merging dictionaries"
      ],
      "metadata": {
        "id": "hqk9yBn-6xW0"
      }
    },
    {
      "cell_type": "code",
      "source": [
        "a={\n",
        "    \"name\" :\"kavya\",\n",
        "    \"age\"  :19,\n",
        "    \"weight\":55,\n",
        "    \"place\":\"kunigal\"\n",
        "}\n",
        "b={\n",
        "    \"age\":20,\n",
        "    \"place\":\"hyderabad\"\n",
        "}\n",
        "a.update(b)\n",
        "print(a)"
      ],
      "metadata": {
        "colab": {
          "base_uri": "https://localhost:8080/"
        },
        "id": "TbQs1-2N62jY",
        "outputId": "6553f7ba-cead-49bb-ea46-7b091b95bb90"
      },
      "execution_count": null,
      "outputs": [
        {
          "output_type": "stream",
          "name": "stdout",
          "text": [
            "{'name': 'kavya', 'age': 20, 'weight': 55, 'place': 'hyderabad'}\n"
          ]
        }
      ]
    },
    {
      "cell_type": "markdown",
      "source": [
        "check key in dictionary"
      ],
      "metadata": {
        "id": "OmUuuUnW7-Wg"
      }
    },
    {
      "cell_type": "code",
      "source": [
        "a={\n",
        "    \"name\" :\"kavya\",\n",
        "    \"age\"  :19,\n",
        "    \"weight\":55,\n",
        "    \"place\":\"kunigal\"\n",
        "}\n",
        "if 'name' in a:\n",
        "  print(\"key 'name' is present in the dictionary\")\n",
        "else:\n",
        "  print(\"key 'name' is not present in the dictionary\")"
      ],
      "metadata": {
        "colab": {
          "base_uri": "https://localhost:8080/"
        },
        "id": "s7ESxoG_8DHn",
        "outputId": "85a20110-b8a8-4524-ccc3-9b23e70fde9a"
      },
      "execution_count": null,
      "outputs": [
        {
          "output_type": "stream",
          "name": "stdout",
          "text": [
            "key 'name' is present in the dictionary\n"
          ]
        }
      ]
    },
    {
      "cell_type": "markdown",
      "source": [
        "set creation and operation"
      ],
      "metadata": {
        "id": "LTLfIDVl9BX7"
      }
    },
    {
      "cell_type": "code",
      "source": [
        "\n",
        "a={1,2,3,4,5}\n",
        "b={6,7,8,9,0}\n",
        "a|b\n",
        "a&b\n",
        "a-b\n"
      ],
      "metadata": {
        "id": "XJ6oGmDy49wp",
        "colab": {
          "base_uri": "https://localhost:8080/"
        },
        "outputId": "87782c85-50d1-45de-f676-bb0893e73192"
      },
      "execution_count": null,
      "outputs": [
        {
          "output_type": "execute_result",
          "data": {
            "text/plain": [
              "{0, 1, 2, 3, 4, 5, 6, 7, 8, 9}"
            ]
          },
          "metadata": {},
          "execution_count": 61
        }
      ]
    },
    {
      "cell_type": "markdown",
      "source": [
        "add and remove element from set"
      ],
      "metadata": {
        "id": "0Z1IBnWq-mxG"
      }
    },
    {
      "cell_type": "code",
      "source": [
        "set={1,2,5,8,0,9,3,}\n",
        "set.add(4)\n",
        "print(set)\n",
        "set.remove(0)\n",
        "print(set)"
      ],
      "metadata": {
        "colab": {
          "base_uri": "https://localhost:8080/"
        },
        "id": "jYE7hXkp-9t0",
        "outputId": "802d7af7-a6aa-4ec4-c4bd-3731da503c54"
      },
      "execution_count": null,
      "outputs": [
        {
          "output_type": "stream",
          "name": "stdout",
          "text": [
            "{0, 1, 2, 3, 4, 5, 8, 9}\n",
            "{1, 2, 3, 4, 5, 8, 9}\n",
            "kavya,10\n"
          ]
        }
      ]
    },
    {
      "cell_type": "markdown",
      "source": [
        "check element in set"
      ],
      "metadata": {
        "id": "BR0eneTe_2Ed"
      }
    },
    {
      "cell_type": "code",
      "source": [
        "set={1,2,5,8,0,9,3}\n",
        "print(3 in set)\n",
        "print(7 in set)"
      ],
      "metadata": {
        "colab": {
          "base_uri": "https://localhost:8080/"
        },
        "id": "psGhIuj0_5ZK",
        "outputId": "b242f1f0-b3f0-414a-aeee-19ad5b7c5c90"
      },
      "execution_count": null,
      "outputs": [
        {
          "output_type": "stream",
          "name": "stdout",
          "text": [
            "True\n",
            "False\n",
            "kavya,10\n"
          ]
        }
      ]
    },
    {
      "cell_type": "markdown",
      "source": [
        "common elements in 2 set"
      ],
      "metadata": {
        "id": "tkmQEDjRBEsP"
      }
    },
    {
      "cell_type": "code",
      "source": [
        "print(\"kavya,10\")\n",
        "a={1,2,3,4,5,6}\n",
        "b={5,6,7,8,9,10}\n",
        "a&b\n",
        "\n"
      ],
      "metadata": {
        "colab": {
          "base_uri": "https://localhost:8080/"
        },
        "id": "bMPd6KfmBJwu",
        "outputId": "8cdabb49-fb55-401f-bb3b-06793d4e456c"
      },
      "execution_count": null,
      "outputs": [
        {
          "output_type": "stream",
          "name": "stdout",
          "text": [
            "kavya,10\n"
          ]
        },
        {
          "output_type": "execute_result",
          "data": {
            "text/plain": [
              "{5, 6}"
            ]
          },
          "metadata": {},
          "execution_count": 63
        }
      ]
    }
  ]
}
