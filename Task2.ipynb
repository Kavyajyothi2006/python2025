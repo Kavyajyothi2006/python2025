{
  "nbformat": 4,
  "nbformat_minor": 0,
  "metadata": {
    "colab": {
      "provenance": [],
      "authorship_tag": "ABX9TyP5jDIJ6KeQHnlP2SpJOmQS"
    },
    "kernelspec": {
      "name": "python3",
      "display_name": "Python 3"
    },
    "language_info": {
      "name": "python"
    }
  },
  "cells": [
    {
      "cell_type": "code",
      "execution_count": null,
      "metadata": {
        "colab": {
          "base_uri": "https://localhost:8080/"
        },
        "id": "_OQX6zb6ixq_",
        "outputId": "62368182-3cbe-44f2-873e-359484abb51a"
      },
      "outputs": [
        {
          "output_type": "stream",
          "name": "stdout",
          "text": [
            "Enter a string: Madam\n",
            "The string is a palindrome.\n"
          ]
        }
      ],
      "source": [
        "def is_palindrome(s):\n",
        "\n",
        "    s = s.replace(\" \", \"\").lower()\n",
        "\n",
        "    return s == s[::-1]\n",
        "\n",
        "input_string = input(\"Enter a string: \")\n",
        "\n",
        "if is_palindrome(input_string):\n",
        "    print(\"The string is a palindrome.\")\n",
        "else:\n",
        "    print(\"The string is not a palindrome.\")"
      ]
    },
    {
      "cell_type": "markdown",
      "source": [
        "Sum of even numbers in range"
      ],
      "metadata": {
        "id": "bsgJwPDWjVF5"
      }
    },
    {
      "cell_type": "markdown",
      "source": [],
      "metadata": {
        "id": "JVk6mk0zjnHQ"
      }
    },
    {
      "cell_type": "code",
      "source": [
        "def sum_even_numbers(start, end):\n",
        "    total = 0\n",
        "\n",
        "    if start % 2 != 0:\n",
        "        start += 1\n",
        "    for num in range(start, end + 1, 2):\n",
        "        total += num\n",
        "    return total\n",
        "\n",
        "\n",
        "start = 1\n",
        "end = 10\n",
        "result = sum_even_numbers(start, end)\n",
        "print(f\"The sum of even numbers between {start} and {end} is: {result}\")"
      ],
      "metadata": {
        "colab": {
          "base_uri": "https://localhost:8080/"
        },
        "id": "9Q0_mtBmkALX",
        "outputId": "013ef8ed-983c-4412-9216-1b82269e5e24"
      },
      "execution_count": null,
      "outputs": [
        {
          "output_type": "stream",
          "name": "stdout",
          "text": [
            "The sum of even numbers between 1 and 10 is: 30\n"
          ]
        }
      ]
    },
    {
      "cell_type": "markdown",
      "source": [
        "Count digits in number"
      ],
      "metadata": {
        "id": "La7ipA4hkoH9"
      }
    },
    {
      "cell_type": "code",
      "source": [
        "def count_digits(number):\n",
        "\n",
        "    if number == 0:\n",
        "        return 1\n",
        "    count = 0\n",
        "    while number != 0:\n",
        "        number //= 10  # Divide the number by 10 to remove the last digit\n",
        "        count += 1\n",
        "    return count\n",
        "\n",
        "number = 12345\n",
        "print(f\"The number of digits in {number} is: {count_digits(number)}\")"
      ],
      "metadata": {
        "colab": {
          "base_uri": "https://localhost:8080/"
        },
        "id": "HLhGYsdIkuDK",
        "outputId": "26e1bdab-7af5-4a06-fcfd-55d26ba3adc9"
      },
      "execution_count": null,
      "outputs": [
        {
          "output_type": "stream",
          "name": "stdout",
          "text": [
            "The number of digits in 12345 is: 5\n"
          ]
        }
      ]
    },
    {
      "cell_type": "markdown",
      "source": [
        "Sum of digits"
      ],
      "metadata": {
        "id": "-4h9mNDQk874"
      }
    },
    {
      "cell_type": "code",
      "source": [
        "def sum_of_digits(number):\n",
        "    number = abs(number)\n",
        "    total = 0\n",
        "    while number > 0:\n",
        "        total += number % 10\n",
        "        number //= 10  # Remove the last digit\n",
        "    return total\n",
        "\n",
        "number = 12345\n",
        "print(f\"The sum of digits in {number} is: {sum_of_digits(number)}\")"
      ],
      "metadata": {
        "colab": {
          "base_uri": "https://localhost:8080/"
        },
        "id": "Y0i5YOd8k_6-",
        "outputId": "e230cbf1-6a10-4e62-cab9-50f9a38d465a"
      },
      "execution_count": null,
      "outputs": [
        {
          "output_type": "stream",
          "name": "stdout",
          "text": [
            "The sum of digits in 12345 is: 15\n"
          ]
        }
      ]
    },
    {
      "cell_type": "markdown",
      "source": [
        "Armstrong number checker"
      ],
      "metadata": {
        "id": "ygiEqDtnluz4"
      }
    },
    {
      "cell_type": "code",
      "source": [
        "def is_armstrong(number):\n",
        "\n",
        "    num_str = str(abs(number))\n",
        "    num_digits = len(num_str)\n",
        "\n",
        "    sum_of_powers = sum(int(digit) ** num_digits for digit in num_str)\n",
        "\n",
        "    return sum_of_powers == number\n",
        "\n",
        "number = 153\n",
        "if is_armstrong(number):\n",
        "    print(f\"{number} is an Armstrong number.\")\n",
        "else:\n",
        "    print(f\"{number} is not an Armstrong number.\")"
      ],
      "metadata": {
        "colab": {
          "base_uri": "https://localhost:8080/"
        },
        "id": "H7kkdltQmeAA",
        "outputId": "0798eb71-ee7f-439d-b2df-8ad094b9908f"
      },
      "execution_count": null,
      "outputs": [
        {
          "output_type": "stream",
          "name": "stdout",
          "text": [
            "153 is an Armstrong number.\n"
          ]
        }
      ]
    },
    {
      "cell_type": "markdown",
      "source": [
        "Print numbers in reverse order"
      ],
      "metadata": {
        "id": "4YDUGBR7m0MD"
      }
    },
    {
      "cell_type": "code",
      "source": [
        "def print_reverse(start, end):\n",
        "    while end >= start:\n",
        "        print(end)\n",
        "        end -= 1\n",
        "\n",
        "start = 1\n",
        "end = 10\n",
        "print_reverse(start, end)"
      ],
      "metadata": {
        "colab": {
          "base_uri": "https://localhost:8080/"
        },
        "id": "u1OheI1Jnmml",
        "outputId": "12931d26-b227-4303-fcb3-390b59c983be"
      },
      "execution_count": null,
      "outputs": [
        {
          "output_type": "stream",
          "name": "stdout",
          "text": [
            "10\n",
            "9\n",
            "8\n",
            "7\n",
            "6\n",
            "5\n",
            "4\n",
            "3\n",
            "2\n",
            "1\n"
          ]
        }
      ]
    },
    {
      "cell_type": "markdown",
      "source": [
        "Number guessing game"
      ],
      "metadata": {
        "id": "dzwH63sWnrhs"
      }
    },
    {
      "cell_type": "code",
      "source": [
        "import random\n",
        "\n",
        "def number_guessing_game():\n",
        "    secret_number = random.randint(1, 50)\n",
        "    attempts = 0\n",
        "\n",
        "    print(\"Welcome to the Number Guessing Game!\")\n",
        "    print(\"I have selected a number between 1 and 50. Try to guess it!\")\n",
        "\n",
        "    while True:\n",
        "        guess = int(input(\"Enter your guess: \"))\n",
        "        attempts += 1\n",
        "        if guess < secret_number:\n",
        "            print(\"Too low! Try again.\")\n",
        "        elif guess > secret_number:\n",
        "            print(\"Too high! Try again.\")\n",
        "        else:\n",
        "            print(f\"Congratulations! You've guessed the number {secret_number} in {attempts} attempts.\")\n",
        "            break\n",
        "number_guessing_game()"
      ],
      "metadata": {
        "colab": {
          "base_uri": "https://localhost:8080/"
        },
        "collapsed": true,
        "id": "oxQK9m2JnulN",
        "outputId": "e7fc81f6-bf87-45ad-b861-2f8dfebcf744"
      },
      "execution_count": null,
      "outputs": [
        {
          "output_type": "stream",
          "name": "stdout",
          "text": [
            "Welcome to the Number Guessing Game!\n",
            "I have selected a number between 1 and 50. Try to guess it!\n",
            "Enter your guess: 15\n",
            "Too low! Try again.\n",
            "Enter your guess: 49\n",
            "Too high! Try again.\n",
            "Enter your guess: 25\n",
            "Too low! Try again.\n",
            "Enter your guess: 1\n",
            "Too low! Try again.\n",
            "Enter your guess: 50\n",
            "Too high! Try again.\n",
            "Enter your guess: 0\n",
            "Too low! Try again.\n",
            "Enter your guess: 15\n",
            "Too low! Try again.\n",
            "Enter your guess: 51\n",
            "Too high! Try again.\n",
            "Enter your guess: 0\n",
            "Too low! Try again.\n"
          ]
        },
        {
          "output_type": "stream",
          "name": "stderr",
          "text": [
            "ERROR:root:Internal Python error in the inspect module.\n",
            "Below is the traceback from this internal error.\n",
            "\n",
            "\n",
            "KeyboardInterrupt\n",
            "\n"
          ]
        }
      ]
    },
    {
      "cell_type": "markdown",
      "source": [
        "Perfect number checker"
      ],
      "metadata": {
        "id": "wohr52cXpDeT"
      }
    },
    {
      "cell_type": "code",
      "source": [
        "def is_perfect_number(number):\n",
        "    if number <= 0:\n",
        "        return False\n",
        "    divisors_sum = 0\n",
        "    for i in range(1, number):\n",
        "        if number % i == 0:\n",
        "            divisors_sum += i\n",
        "    return divisors_sum == number\n",
        "\n",
        "number = 30\n",
        "if is_perfect_number(number):\n",
        "    print(f\"{number} is a perfect number.\")\n",
        "else:\n",
        "    print(f\"{number} is not a perfect number.\")"
      ],
      "metadata": {
        "colab": {
          "base_uri": "https://localhost:8080/"
        },
        "id": "LmpzZ5qQqHBY",
        "outputId": "abba7b60-5f56-4e16-e3f3-8ebb02000794"
      },
      "execution_count": null,
      "outputs": [
        {
          "output_type": "stream",
          "name": "stdout",
          "text": [
            "30 is not a perfect number.\n"
          ]
        }
      ]
    },
    {
      "cell_type": "markdown",
      "source": [
        "Star pattern for pyramid"
      ],
      "metadata": {
        "id": "qlG00dYorPRV"
      }
    },
    {
      "cell_type": "code",
      "source": [
        "def pyramid_pattern(rows):\n",
        "    for i in range(1, rows + 1):\n",
        "        print(\" \" * (rows - i), end=\"\")\n",
        "        print(\"*\" * (2 * i - 1))\n",
        "rows = 6\n",
        "pyramid_pattern(rows)"
      ],
      "metadata": {
        "colab": {
          "base_uri": "https://localhost:8080/"
        },
        "id": "RrMJ6FMjrTQg",
        "outputId": "e8756f7a-fd89-42e5-e377-1b755c3a1659"
      },
      "execution_count": null,
      "outputs": [
        {
          "output_type": "stream",
          "name": "stdout",
          "text": [
            "     *\n",
            "    ***\n",
            "   *****\n",
            "  *******\n",
            " *********\n",
            "***********\n"
          ]
        }
      ]
    },
    {
      "cell_type": "markdown",
      "source": [
        "Star pattern for inverted pyramid"
      ],
      "metadata": {
        "id": "tWwSsOUHrkGX"
      }
    },
    {
      "cell_type": "code",
      "source": [
        "def inverted_pyramid_pattern(rows):\n",
        "    for i in range(rows, 0, -1):\n",
        "        print(\" \" * (rows - i), end=\"\")\n",
        "        print(\"*\" * (2 * i - 1))\n",
        "rows = 7\n",
        "inverted_pyramid_pattern(rows)"
      ],
      "metadata": {
        "colab": {
          "base_uri": "https://localhost:8080/"
        },
        "id": "MzrUgGNtrn6w",
        "outputId": "c1484898-7090-430b-f6a7-1dae606be048"
      },
      "execution_count": null,
      "outputs": [
        {
          "output_type": "stream",
          "name": "stdout",
          "text": [
            "*************\n",
            " ***********\n",
            "  *********\n",
            "   *******\n",
            "    *****\n",
            "     ***\n",
            "      *\n"
          ]
        }
      ]
    },
    {
      "cell_type": "markdown",
      "source": [
        "Break"
      ],
      "metadata": {
        "id": "eerdS6MtsTdK"
      }
    },
    {
      "cell_type": "code",
      "source": [
        "\n",
        "for i in range(1, 11):\n",
        "    if i == 5:\n",
        "        break  # Exit the loop when i equals 5\n",
        "    print(i)\n",
        "\n",
        "print(\"Loop terminated.\")"
      ],
      "metadata": {
        "colab": {
          "base_uri": "https://localhost:8080/"
        },
        "id": "cFr-n6vLsW6m",
        "outputId": "18cb1f4a-4818-4243-f6bb-1dbcf5d07bd6"
      },
      "execution_count": null,
      "outputs": [
        {
          "output_type": "stream",
          "name": "stdout",
          "text": [
            "1\n",
            "2\n",
            "3\n",
            "4\n",
            "Loop terminated.\n"
          ]
        }
      ]
    },
    {
      "cell_type": "markdown",
      "source": [
        "Continue"
      ],
      "metadata": {
        "id": "CQql5wkssd66"
      }
    },
    {
      "cell_type": "code",
      "source": [
        "\n",
        "for i in range(1, 11):\n",
        "    if i == 5:\n",
        "        continue\n",
        "    print(i)\n",
        "\n",
        "print(\"Loop completed.\")"
      ],
      "metadata": {
        "colab": {
          "base_uri": "https://localhost:8080/"
        },
        "id": "Ct0HKX-fsgBd",
        "outputId": "51aa5ff5-02c2-4af4-c88d-484145c2f32f"
      },
      "execution_count": null,
      "outputs": [
        {
          "output_type": "stream",
          "name": "stdout",
          "text": [
            "1\n",
            "2\n",
            "3\n",
            "4\n",
            "6\n",
            "7\n",
            "8\n",
            "9\n",
            "10\n",
            "Loop completed.\n"
          ]
        }
      ]
    },
    {
      "cell_type": "markdown",
      "source": [
        "GCD"
      ],
      "metadata": {
        "id": "P4griNUUsz_e"
      }
    },
    {
      "cell_type": "code",
      "source": [
        "def gcd(a, b):\n",
        "    smallest = min(a, b)\n",
        "    gcd_value = 1\n",
        "    for i in range(1, smallest + 1):\n",
        "        if a % i == 0 and b % i == 0:\n",
        "            gcd_value = i\n",
        "    return gcd_value\n",
        "num1 = 56\n",
        "num2 = 98\n",
        "print(f\"The GCD of {num1} and {num2} is: {gcd(num1, num2)}\")"
      ],
      "metadata": {
        "colab": {
          "base_uri": "https://localhost:8080/"
        },
        "id": "ogLlAFtSs5UY",
        "outputId": "35b98618-36dc-4ae2-d89d-33660305979e"
      },
      "execution_count": null,
      "outputs": [
        {
          "output_type": "stream",
          "name": "stdout",
          "text": [
            "The GCD of 56 and 98 is: 14\n"
          ]
        }
      ]
    },
    {
      "cell_type": "markdown",
      "source": [
        "LCM"
      ],
      "metadata": {
        "id": "3cdct-8OtdcU"
      }
    },
    {
      "cell_type": "code",
      "source": [
        "def gcd(a, b):\n",
        "    smallest = min(a, b)\n",
        "    gcd_value = 1\n",
        "\n",
        "    for i in range(1, smallest + 1):\n",
        "        if a % i == 0 and b % i == 0:\n",
        "            gcd_value = i\n",
        "\n",
        "    return gcd_value\n",
        "def lcm(a, b):\n",
        "    return abs(a * b) // gcd(a, b)\n",
        "num1 = 56\n",
        "num2 = 98\n",
        "print(f\"The LCM of {num1} and {num2} is: {lcm(num1, num2)}\")"
      ],
      "metadata": {
        "colab": {
          "base_uri": "https://localhost:8080/"
        },
        "id": "a24WOXhItiLM",
        "outputId": "3fe2429e-840c-4b60-99a0-e4684f4d6af9"
      },
      "execution_count": null,
      "outputs": [
        {
          "output_type": "stream",
          "name": "stdout",
          "text": [
            "The LCM of 56 and 98 is: 392\n"
          ]
        }
      ]
    },
    {
      "cell_type": "markdown",
      "source": [
        "Sum of square of first n numbers"
      ],
      "metadata": {
        "id": "HqtcArvMt_7Z"
      }
    },
    {
      "cell_type": "code",
      "source": [
        "def sum_of_squares(n):\n",
        "    total = 0\n",
        "    for i in range(1, n + 1):\n",
        "        total += i ** 2\n",
        "    return total\n",
        "n = 5\n",
        "print(f\"The sum of squares of the first {n} numbers is: {sum_of_squares(n)}\")"
      ],
      "metadata": {
        "colab": {
          "base_uri": "https://localhost:8080/"
        },
        "id": "ND1tAMqYuKm3",
        "outputId": "f1cd317a-9f27-41fe-9f3f-841509c2c963"
      },
      "execution_count": null,
      "outputs": [
        {
          "output_type": "stream",
          "name": "stdout",
          "text": [
            "The sum of squares of the first 5 numbers is: 55\n"
          ]
        }
      ]
    },
    {
      "cell_type": "markdown",
      "source": [
        "Number pattern printing for Pascal triangle"
      ],
      "metadata": {
        "id": "ZEZsA5NAupJ_"
      }
    },
    {
      "cell_type": "code",
      "source": [
        "def print_pascals_triangle(rows):\n",
        "    for i in range(rows):\n",
        "\n",
        "        for j in range(rows - i - 1):\n",
        "            print(\" \", end=\"\")\n",
        "\n",
        "        num = 1\n",
        "        for j in range(i + 1):\n",
        "            print(num, end=\" \")\n",
        "\n",
        "            num = num * (i - j) // (j + 1)\n",
        "\n",
        "        print()\n",
        "\n",
        "\n",
        "rows = int(input(\"Enter the number of rows for Pascal's Triangle: \"))\n",
        "print_pascals_triangle(rows)"
      ],
      "metadata": {
        "colab": {
          "base_uri": "https://localhost:8080/"
        },
        "id": "qBCJvO5iyuoh",
        "outputId": "735c03ff-f79e-43cd-eb58-2bfc94dca7d7"
      },
      "execution_count": null,
      "outputs": [
        {
          "output_type": "stream",
          "name": "stdout",
          "text": [
            "Enter the number of rows for Pascal's Triangle: 5\n",
            "    1 \n",
            "   1 1 \n",
            "  1 2 1 \n",
            " 1 3 3 1 \n",
            "1 4 6 4 1 \n"
          ]
        }
      ]
    },
    {
      "cell_type": "markdown",
      "source": [
        "Floyd triangle"
      ],
      "metadata": {
        "id": "YPfd82mpxBm9"
      }
    },
    {
      "cell_type": "code",
      "source": [
        "def floyd_triangle(n):\n",
        "    num = 1  # Start from 1\n",
        "    for i in range(1, n + 1):\n",
        "        for j in range(i):\n",
        "            print(num, end=\" \")\n",
        "            num += 1\n",
        "        print()\n",
        "\n",
        "# Example usage:\n",
        "n = 5\n",
        "floyd_triangle(n)"
      ],
      "metadata": {
        "id": "A3t1YQWXxMbL"
      },
      "execution_count": null,
      "outputs": []
    }
  ]
}